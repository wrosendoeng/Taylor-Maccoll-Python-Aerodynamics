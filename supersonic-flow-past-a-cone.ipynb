{
 "cells": [
  {
   "cell_type": "markdown",
   "id": "2e23eb50",
   "metadata": {},
   "source": [
    "# Supersonic Flow Past a Cone:\n",
    "## Taylor-Maccoll Equations\n",
    "\n",
    "This problem was numerically solved by G.I. Taylor and J. W. Maccoll in 1933. It is a classic case in inviscid supersonic aerodynamics.\n",
    "\n",
    "**References:** \n",
    "1. https://www.grc.nasa.gov/www/k-12/airplane/coneflow.html\n",
    "2. ANDERSON, J. D. (2001). _Fundamentals of Aerodynamics_. Boston: Mc Graw-Hill\n",
    "3. https://engineering.purdue.edu/~aerodyn/AAE514/Spring%202011/lecture-notes/Section3-9-11.pdf"
   ]
  },
  {
   "cell_type": "code",
   "execution_count": 17,
   "id": "3063d1f0",
   "metadata": {},
   "outputs": [],
   "source": [
    "# Import the required modules\n",
    "import numpy as np\n",
    "import pandas as pd\n",
    "from matplotlib import pyplot as plt\n",
    "\n",
    "# This makes the plots appear inside the notebook\n",
    "%matplotlib inline"
   ]
  },
  {
   "cell_type": "code",
   "execution_count": 18,
   "id": "300ca765",
   "metadata": {},
   "outputs": [],
   "source": [
    "class InitialConditions:\n",
    "    \n",
    "    # m1 = mach number on free stream\n",
    "    # beta = shock wave angle\n",
    "    # setup.gamma = constant for monotonic ideal gas (1.4)\n",
    "    def __init__(self,m1,beta,gamma):\n",
    "        self.m1 = m1\n",
    "        self.beta = beta*np.pi/180\n",
    "        self.gamma = gamma"
   ]
  },
  {
   "cell_type": "markdown",
   "id": "b7fd683e",
   "metadata": {},
   "source": [
    "## Define Oblique Shock Wave Equations:"
   ]
  },
  {
   "cell_type": "code",
   "execution_count": 19,
   "id": "e8d6d8b0",
   "metadata": {},
   "outputs": [],
   "source": [
    "setup = InitialConditions(3.0,30,1.4)\n",
    "ob = np.zeros(2)\n",
    "\n",
    "def oblique_shock_wave():\n",
    "    \n",
    "    # mn1 = mach on free stream in normal direction\n",
    "    mn1 = setup.m1*np.sin(setup.beta)\n",
    "    # rho2_rho1 = relation between disturbed and undisturbed densities \n",
    "    rho2_rho1 = ((setup.gamma + 1)*mn1**2)/(2 + (setup.gamma - 1)*mn1**2)\n",
    "    # pre2_pre1 = relation between disturbed and undisturbed pressures\n",
    "    pre2_pre1 = 1.0 + 2*setup.gamma/(setup.gamma + 1)*(mn1**2 - 1)\n",
    "    # tem2_tesetup.m1 = relation between disturbed and undisturbed temperatures\n",
    "    tem2_tesetup.m1 = pre2_pre1/rho2_rho1\n",
    "    # mn2 = mach after shock wave in normal direction\n",
    "    mn2 = np.sqrt((1.0 + 0.5*(setup.gamma - 1)*mn1**2)/(setup.gamma*mn1**2 - 0.5*(setup.gamma - 1)))\n",
    "    # delta = flow deflection angle\n",
    "    delta = np.arctan(2*1/np.tan(setup.beta)*(mn1**2-1)/(setup.m1**2*(setup.gamma+np.cos(2*setup.beta)+2)))\n",
    "    # m2 = mach number immediately behind the shock\n",
    "    m2 = mn2/np.sin(setup.beta-delta)\n",
    "    \n",
    "    ob[0] = delta\n",
    "    ob[1] = m2\n",
    "    \n",
    "    return ob"
   ]
  },
  {
   "cell_type": "markdown",
   "id": "16896a2f",
   "metadata": {},
   "source": [
    "## Define Taylor-Maccoll Equations:"
   ]
  },
  {
   "cell_type": "code",
   "execution_count": 20,
   "id": "713bc916",
   "metadata": {},
   "outputs": [],
   "source": [
    "def taylor_maccoll(delta, m2):\n",
    "\n",
    "    ob_array = oblique_shock_wave()\n",
    "    tm = np.zeros(2)\n",
    "    v_nondim = 1.0/np.sqrt(2.0/(setup.gamma-1)/m2**2+1.0)\n",
    "    v_nondim_r = v_nondim*np.sqrt(1.0/(1.0+np.tan(setup.beta-delta)**2))\n",
    "    v_nondim_theta = v_nondim_r*np.tan(setup.beta-delta)\n",
    "    \n",
    "    tm[0] = ob_array[0]\n",
    "    tm[1] = v_nondim_theta\n",
    "    tm[2] = (0.5*(gamma-1)*(1-v_nondim**2)*(2*v_nondim_r+v_nondim_theta/np.tan(delta))-\n",
    "             v_nondim_r*v_nondim_theta**2)/(v_nondim_theta**2 + 0.5*(gamma-1)*(v_nondim**2-1)) \n",
    "    \n",
    "    return tm"
   ]
  },
  {
   "cell_type": "markdown",
   "id": "6b76cac7",
   "metadata": {},
   "source": [
    "## Numerical Integration using 4th-order Runge-Kutta"
   ]
  },
  {
   "cell_type": "code",
   "execution_count": null,
   "id": "e626e90f",
   "metadata": {},
   "outputs": [],
   "source": [
    "y = np.zeros(100):\n",
    "def rk4(dx,x,y):    \n",
    "     \n",
    "    k1 = dx * f(x,y)\n",
    "    k2 = dx * f(x + 0.5*dx, y + 0.5*k1)\n",
    "    k3 = dx * f(x + 0.5*dx, y + 0.5*k2)\n",
    "    k4 = dx * f(x + 1.0*dx, y + 1.0*k3)\n",
    "\n",
    "    return (k1 + 2*k2 + 2*k3 + k4)/6.0"
   ]
  },
  {
   "cell_type": "markdown",
   "id": "26be129f",
   "metadata": {},
   "source": [
    "## Finding real roots to adjust RK4 to real roots"
   ]
  },
  {
   "cell_type": "code",
   "execution_count": null,
   "id": "55ea6858",
   "metadata": {},
   "outputs": [],
   "source": [
    "def newton_raphson():\n",
    "    integer(intlength) :: iter=1, imax=100\n",
    "    real(wp) :: d2f, eta, eta_new, f_1stderiv_eta, f_2ndderiv_eta, &\n",
    "    f_2ndderiv_new, bp(3), bp_new(3)\n",
    "    real(wp), dimension(3) :: c1, c2, c3, c4\n",
    "\n",
    "    f_1stderiv_eta = bp(2)\n",
    "    f_2ndderiv_eta = d2f\n",
    "    \n",
    "    x[i+1] = x[i] - f()/central_differences()\n",
    "    \n",
    "    # 100 iterations to prevent infinite loop\n",
    "    for iter in range(1,eta_points):\n",
    "        if (abs(f_1stderiv_eta-1.0d0) < tol_1):\n",
    "            break\n",
    "        else: # Find the root\n",
    "            x[i+1] = x[i] - /central_differences()\n",
    "            f_2ndderiv_new = f_2ndderiv_eta - (f_1stderiv_eta)/finite_difference(0.0d0,bp)\n",
    "            # Using the root to calculate rk4 again with new value\n",
    "            bp = rk4(0.0d0,(/0.0d0, 0.0d0, f_2ndderiv_new/))\n",
    "            f_1stderiv_eta = bp(2)\n",
    "            f_2ndderiv_eta = f_2ndderiv_new    \n",
    "            bp_new = bp\n",
    "\n",
    "def central_differences(x,y):\n",
    "    eps = np.sqrt(np.finfo(float).eps)\n",
    "    dydx = (y[i+1] - 2*y[i] + y[i-1])/eps**2\n",
    "\n",
    "    return dydx"
   ]
  },
  {
   "cell_type": "markdown",
   "id": "ec2edd19",
   "metadata": {},
   "source": [
    "## Plotting inside Jupyter Notebook with Matplotlib:"
   ]
  },
  {
   "cell_type": "code",
   "execution_count": 46,
   "id": "3fdc19b3",
   "metadata": {},
   "outputs": [
    {
     "data": {
      "text/plain": [
       "[<matplotlib.lines.Line2D at 0x28809d24f10>]"
      ]
     },
     "execution_count": 46,
     "metadata": {},
     "output_type": "execute_result"
    },
    {
     "data": {
      "image/png": "[encoded data removed]",
      "text/plain": [
       "<Figure size 432x288 with 1 Axes>"
      ]
     },
     "metadata": {
      "needs_background": "light"
     },
     "output_type": "display_data"
    }
   ],
   "source": [
    "plt.rcParams.update({'font.size': 14})\n",
    "plt.title('Taylor-Maccoll Equations')\n",
    "plt.xlabel('Shock Angle')\n",
    "plt.ylabel('Mach Number')\n",
    "plt.plot(solution.t,solution.y[0],'r--')"
   ]
  },
  {
   "cell_type": "code",
   "execution_count": 10,
   "id": "fb1d51a4",
   "metadata": {},
   "outputs": [
    {
     "data": {
      "text/plain": [
       "-10.736698641763217"
      ]
     },
     "execution_count": 10,
     "metadata": {},
     "output_type": "execute_result"
    }
   ],
   "source": [
    "3/np.sin(10-4)"
   ]
  },
  {
   "cell_type": "code",
   "execution_count": 13,
   "id": "a40894a0",
   "metadata": {},
   "outputs": [
    {
     "data": {
      "text/plain": [
       "1.016"
      ]
     },
     "execution_count": 13,
     "metadata": {},
     "output_type": "execute_result"
    }
   ],
   "source": [
    "1/(3-0.5)/5**2 + 1"
   ]
  },
  {
   "cell_type": "code",
   "execution_count": 29,
   "id": "0ececa20",
   "metadata": {},
   "outputs": [],
   "source": [
    "setup = InitialConditions(3.0,30,1.4)"
   ]
  },
  {
   "cell_type": "code",
   "execution_count": 30,
   "id": "09129078",
   "metadata": {},
   "outputs": [
    {
     "data": {
      "text/plain": [
       "0.5235987755982988"
      ]
     },
     "execution_count": 30,
     "metadata": {},
     "output_type": "execute_result"
    }
   ],
   "source": [
    "setup.beta"
   ]
  },
  {
   "cell_type": "code",
   "execution_count": 31,
   "id": "b99534b5",
   "metadata": {},
   "outputs": [
    {
     "data": {
      "text/plain": [
       "3.0"
      ]
     },
     "execution_count": 31,
     "metadata": {},
     "output_type": "execute_result"
    }
   ],
   "source": [
    "setup.m1"
   ]
  },
  {
   "cell_type": "code",
   "execution_count": 32,
   "id": "8dec814d",
   "metadata": {},
   "outputs": [
    {
     "data": {
      "text/plain": [
       "1.4"
      ]
     },
     "execution_count": 32,
     "metadata": {},
     "output_type": "execute_result"
    }
   ],
   "source": [
    "setup.gamma"
   ]
  },
  {
   "cell_type": "code",
   "execution_count": 3,
   "id": "785ac54a",
   "metadata": {},
   "outputs": [],
   "source": [
    "y = []"
   ]
  },
  {
   "cell_type": "code",
   "execution_count": 9,
   "id": "e2076926",
   "metadata": {},
   "outputs": [],
   "source": [
    "y.append(4)"
   ]
  },
  {
   "cell_type": "code",
   "execution_count": 12,
   "id": "e68cac14",
   "metadata": {},
   "outputs": [],
   "source": [
    "import numpy as np"
   ]
  },
  {
   "cell_type": "code",
   "execution_count": 13,
   "id": "9313d1cb",
   "metadata": {},
   "outputs": [],
   "source": [
    "y = np.zeros(2)"
   ]
  },
  {
   "cell_type": "code",
   "execution_count": 14,
   "id": "2ac2b30b",
   "metadata": {},
   "outputs": [
    {
     "data": {
      "text/plain": [
       "array([0., 0.])"
      ]
     },
     "execution_count": 14,
     "metadata": {},
     "output_type": "execute_result"
    }
   ],
   "source": [
    "y"
   ]
  },
  {
   "cell_type": "code",
   "execution_count": 15,
   "id": "0ec535b8",
   "metadata": {},
   "outputs": [],
   "source": [
    "y[0] = 2"
   ]
  },
  {
   "cell_type": "code",
   "execution_count": 32,
   "id": "b8e4a0e5",
   "metadata": {},
   "outputs": [],
   "source": [
    "y_new = y"
   ]
  },
  {
   "cell_type": "code",
   "execution_count": 36,
   "id": "1bb435fe",
   "metadata": {},
   "outputs": [],
   "source": [
    "y = np.vstack((y,y_new))"
   ]
  },
  {
   "cell_type": "code",
   "execution_count": 37,
   "id": "8ef760f0",
   "metadata": {},
   "outputs": [
    {
     "data": {
      "text/plain": [
       "array([[2., 0.],\n",
       "       [2., 0.]])"
      ]
     },
     "execution_count": 37,
     "metadata": {},
     "output_type": "execute_result"
    }
   ],
   "source": [
    "y"
   ]
  },
  {
   "cell_type": "code",
   "execution_count": 38,
   "id": "5c9ae721",
   "metadata": {},
   "outputs": [],
   "source": [
    "y[1,1] = 3"
   ]
  },
  {
   "cell_type": "code",
   "execution_count": 39,
   "id": "c32de5a4",
   "metadata": {},
   "outputs": [
    {
     "data": {
      "text/plain": [
       "array([[2., 0.],\n",
       "       [2., 3.]])"
      ]
     },
     "execution_count": 39,
     "metadata": {},
     "output_type": "execute_result"
    }
   ],
   "source": [
    "y"
   ]
  },
  {
   "cell_type": "code",
   "execution_count": 40,
   "id": "b7072010",
   "metadata": {},
   "outputs": [
    {
     "ename": "IndexError",
     "evalue": "index 2 is out of bounds for axis 0 with size 2",
     "output_type": "error",
     "traceback": [
      "\u001b[1;31m---------------------------------------------------------------------------\u001b[0m",
      "\u001b[1;31mIndexError\u001b[0m                                Traceback (most recent call last)",
      "\u001b[1;32m~\\AppData\\Local\\Temp/ipykernel_21124/3536727565.py\u001b[0m in \u001b[0;36m<module>\u001b[1;34m\u001b[0m\n\u001b[1;32m----> 1\u001b[1;33m \u001b[0my\u001b[0m\u001b[1;33m[\u001b[0m\u001b[1;36m3\u001b[0m\u001b[1;33m]\u001b[0m \u001b[1;33m=\u001b[0m \u001b[0my\u001b[0m\u001b[1;33m[\u001b[0m\u001b[1;36m2\u001b[0m\u001b[1;33m]\u001b[0m \u001b[1;33m+\u001b[0m \u001b[1;36m1\u001b[0m\u001b[1;33m\u001b[0m\u001b[1;33m\u001b[0m\u001b[0m\n\u001b[0m",
      "\u001b[1;31mIndexError\u001b[0m: index 2 is out of bounds for axis 0 with size 2"
     ]
    }
   ],
   "source": [
    "y[3] = y[2] + 1"
   ]
  },
  {
   "cell_type": "code",
   "execution_count": null,
   "id": "19d158ae",
   "metadata": {},
   "outputs": [],
   "source": []
  }
 ],
 "metadata": {
  "kernelspec": {
   "display_name": "Python 3 (ipykernel)",
   "language": "python",
   "name": "python3"
  },
  "language_info": {
   "codemirror_mode": {
    "name": "ipython",
    "version": 3
   },
   "file_extension": ".py",
   "mimetype": "text/x-python",
   "name": "python",
   "nbconvert_exporter": "python",
   "pygments_lexer": "ipython3",
   "version": "3.8.11"
  }
 },
 "nbformat": 4,
 "nbformat_minor": 5
}
